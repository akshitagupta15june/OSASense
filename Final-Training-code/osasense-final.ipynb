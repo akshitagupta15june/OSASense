{
  "nbformat": 4,
  "nbformat_minor": 0,
  "metadata": {
    "colab": {
      "name": "osasense.ipynb",
      "provenance": [],
      "authorship_tag": "ABX9TyP18eq4QroML3AEIqHRsWT/",
      "include_colab_link": true
    },
    "kernelspec": {
      "name": "python3",
      "display_name": "Python 3"
    },
    "language_info": {
      "name": "python"
    },
    "accelerator": "GPU"
  },
  "cells": [
    {
      "cell_type": "markdown",
      "metadata": {
        "id": "view-in-github",
        "colab_type": "text"
      },
      "source": [
        "<a href=\"https://colab.research.google.com/github/akshitagupta15june/OSASense/blob/main/osasense.ipynb\" target=\"_parent\"><img src=\"https://colab.research.google.com/assets/colab-badge.svg\" alt=\"Open In Colab\"/></a>"
      ]
    },
    {
      "cell_type": "code",
      "metadata": {
        "colab": {
          "base_uri": "https://localhost:8080/",
          "height": 35
        },
        "id": "_1S0sKKjxfMl",
        "outputId": "fa05290a-0182-4aaf-ae2d-c16a208585fd"
      },
      "source": [
        "import tensorflow as tf\n",
        "tf.test.gpu_device_name()"
      ],
      "execution_count": null,
      "outputs": [
        {
          "output_type": "execute_result",
          "data": {
            "application/vnd.google.colaboratory.intrinsic+json": {
              "type": "string"
            },
            "text/plain": [
              "'/device:GPU:0'"
            ]
          },
          "metadata": {
            "tags": []
          },
          "execution_count": 1
        }
      ]
    },
    {
      "cell_type": "code",
      "metadata": {
        "colab": {
          "base_uri": "https://localhost:8080/"
        },
        "id": "_2jTtguJ1iQc",
        "outputId": "127ec0d6-8a21-441b-f728-c6a91082c45c"
      },
      "source": [
        "from tensorflow.python.client import device_lib\n",
        "device_lib.list_local_devices()"
      ],
      "execution_count": null,
      "outputs": [
        {
          "output_type": "execute_result",
          "data": {
            "text/plain": [
              "[name: \"/device:CPU:0\"\n",
              " device_type: \"CPU\"\n",
              " memory_limit: 268435456\n",
              " locality {\n",
              " }\n",
              " incarnation: 4339071086288115981, name: \"/device:GPU:0\"\n",
              " device_type: \"GPU\"\n",
              " memory_limit: 14674281152\n",
              " locality {\n",
              "   bus_id: 1\n",
              "   links {\n",
              "   }\n",
              " }\n",
              " incarnation: 4248203340825268888\n",
              " physical_device_desc: \"device: 0, name: Tesla T4, pci bus id: 0000:00:04.0, compute capability: 7.5\"]"
            ]
          },
          "metadata": {
            "tags": []
          },
          "execution_count": 2
        }
      ]
    },
    {
      "cell_type": "code",
      "metadata": {
        "id": "_qOidwkJ1ZB2"
      },
      "source": [
        "from tensorflow import keras\n",
        "import sklearn\n",
        "import numpy as np\n",
        "import pandas as pd\n",
        "from tensorflow.keras.layers import Dense,Dropout,LSTM\n",
        "from tensorflow.keras.models import Sequential\n",
        "from google.colab import files"
      ],
      "execution_count": null,
      "outputs": []
    },
    {
      "cell_type": "code",
      "metadata": {
        "id": "umtTSYk0dJPi"
      },
      "source": [
        "df='sleeep_apnea_data.xlsx'\n",
        "main_df=pd.read_excel(df,'male')\n"
      ],
      "execution_count": null,
      "outputs": []
    },
    {
      "cell_type": "code",
      "metadata": {
        "id": "STFdQbLAdYDj"
      },
      "source": [
        "df=main_df.sample(frac=1).reset_index(drop=True)\n",
        "df.dropna(inplace=True)"
      ],
      "execution_count": null,
      "outputs": []
    },
    {
      "cell_type": "code",
      "metadata": {
        "id": "O_JS_CPNdq5e"
      },
      "source": [
        "from sklearn.preprocessing import LabelEncoder\n",
        "le=LabelEncoder()"
      ],
      "execution_count": null,
      "outputs": []
    },
    {
      "cell_type": "code",
      "metadata": {
        "id": "YhudBFK7drBI"
      },
      "source": [
        "df.Gender=le.fit_transform(df.Gender)"
      ],
      "execution_count": null,
      "outputs": []
    },
    {
      "cell_type": "code",
      "metadata": {
        "id": "lVQ7O_sXdxvz"
      },
      "source": [
        "def fun(num): \n",
        "  \n",
        "    if num<=30: \n",
        "        return 0\n",
        "    else: \n",
        "        return 1"
      ],
      "execution_count": null,
      "outputs": []
    },
    {
      "cell_type": "code",
      "metadata": {
        "id": "4SF1gQPVd1Zb"
      },
      "source": [
        "df['status']=df.AHI.apply(fun)\n",
        "status=[\"negative\",\"positive\"]\n"
      ],
      "execution_count": null,
      "outputs": []
    },
    {
      "cell_type": "code",
      "metadata": {
        "colab": {
          "base_uri": "https://localhost:8080/",
          "height": 424
        },
        "id": "di_bXBfid4VV",
        "outputId": "238233d2-77e1-4dfa-b9f9-cc6c0cf15a0e"
      },
      "source": [
        "df"
      ],
      "execution_count": null,
      "outputs": [
        {
          "output_type": "execute_result",
          "data": {
            "text/html": [
              "<div>\n",
              "<style scoped>\n",
              "    .dataframe tbody tr th:only-of-type {\n",
              "        vertical-align: middle;\n",
              "    }\n",
              "\n",
              "    .dataframe tbody tr th {\n",
              "        vertical-align: top;\n",
              "    }\n",
              "\n",
              "    .dataframe thead th {\n",
              "        text-align: right;\n",
              "    }\n",
              "</style>\n",
              "<table border=\"1\" class=\"dataframe\">\n",
              "  <thead>\n",
              "    <tr style=\"text-align: right;\">\n",
              "      <th></th>\n",
              "      <th>Gender</th>\n",
              "      <th>BQ</th>\n",
              "      <th>ESS</th>\n",
              "      <th>BMI</th>\n",
              "      <th>Weight</th>\n",
              "      <th>Height</th>\n",
              "      <th>Head</th>\n",
              "      <th>Neck</th>\n",
              "      <th>Waist</th>\n",
              "      <th>Buttock</th>\n",
              "      <th>Age</th>\n",
              "      <th>AHI</th>\n",
              "      <th>status</th>\n",
              "    </tr>\n",
              "  </thead>\n",
              "  <tbody>\n",
              "    <tr>\n",
              "      <th>0</th>\n",
              "      <td>0</td>\n",
              "      <td>0.0</td>\n",
              "      <td>9.0</td>\n",
              "      <td>26.291724</td>\n",
              "      <td>69.0</td>\n",
              "      <td>162.0</td>\n",
              "      <td>53.6</td>\n",
              "      <td>36.0</td>\n",
              "      <td>87.5</td>\n",
              "      <td>98.0</td>\n",
              "      <td>58.0</td>\n",
              "      <td>30.000000</td>\n",
              "      <td>0</td>\n",
              "    </tr>\n",
              "    <tr>\n",
              "      <th>1</th>\n",
              "      <td>1</td>\n",
              "      <td>0.0</td>\n",
              "      <td>8.0</td>\n",
              "      <td>22.183919</td>\n",
              "      <td>69.5</td>\n",
              "      <td>177.0</td>\n",
              "      <td>56.0</td>\n",
              "      <td>37.0</td>\n",
              "      <td>85.0</td>\n",
              "      <td>96.0</td>\n",
              "      <td>45.0</td>\n",
              "      <td>29.020772</td>\n",
              "      <td>0</td>\n",
              "    </tr>\n",
              "    <tr>\n",
              "      <th>2</th>\n",
              "      <td>1</td>\n",
              "      <td>0.0</td>\n",
              "      <td>0.0</td>\n",
              "      <td>24.258674</td>\n",
              "      <td>76.0</td>\n",
              "      <td>177.0</td>\n",
              "      <td>55.5</td>\n",
              "      <td>36.4</td>\n",
              "      <td>83.5</td>\n",
              "      <td>96.0</td>\n",
              "      <td>38.0</td>\n",
              "      <td>34.859155</td>\n",
              "      <td>1</td>\n",
              "    </tr>\n",
              "    <tr>\n",
              "      <th>3</th>\n",
              "      <td>0</td>\n",
              "      <td>0.0</td>\n",
              "      <td>9.0</td>\n",
              "      <td>28.338234</td>\n",
              "      <td>73.0</td>\n",
              "      <td>160.5</td>\n",
              "      <td>55.0</td>\n",
              "      <td>34.3</td>\n",
              "      <td>86.0</td>\n",
              "      <td>104.0</td>\n",
              "      <td>36.0</td>\n",
              "      <td>1.660000</td>\n",
              "      <td>0</td>\n",
              "    </tr>\n",
              "    <tr>\n",
              "      <th>4</th>\n",
              "      <td>1</td>\n",
              "      <td>1.0</td>\n",
              "      <td>12.0</td>\n",
              "      <td>43.598890</td>\n",
              "      <td>132.0</td>\n",
              "      <td>174.0</td>\n",
              "      <td>62.0</td>\n",
              "      <td>51.5</td>\n",
              "      <td>133.0</td>\n",
              "      <td>129.0</td>\n",
              "      <td>35.0</td>\n",
              "      <td>75.380282</td>\n",
              "      <td>1</td>\n",
              "    </tr>\n",
              "    <tr>\n",
              "      <th>...</th>\n",
              "      <td>...</td>\n",
              "      <td>...</td>\n",
              "      <td>...</td>\n",
              "      <td>...</td>\n",
              "      <td>...</td>\n",
              "      <td>...</td>\n",
              "      <td>...</td>\n",
              "      <td>...</td>\n",
              "      <td>...</td>\n",
              "      <td>...</td>\n",
              "      <td>...</td>\n",
              "      <td>...</td>\n",
              "      <td>...</td>\n",
              "    </tr>\n",
              "    <tr>\n",
              "      <th>5240</th>\n",
              "      <td>1</td>\n",
              "      <td>0.0</td>\n",
              "      <td>5.0</td>\n",
              "      <td>25.854639</td>\n",
              "      <td>81.0</td>\n",
              "      <td>177.0</td>\n",
              "      <td>56.0</td>\n",
              "      <td>38.0</td>\n",
              "      <td>89.0</td>\n",
              "      <td>100.5</td>\n",
              "      <td>39.0</td>\n",
              "      <td>52.784810</td>\n",
              "      <td>1</td>\n",
              "    </tr>\n",
              "    <tr>\n",
              "      <th>5241</th>\n",
              "      <td>1</td>\n",
              "      <td>0.0</td>\n",
              "      <td>19.0</td>\n",
              "      <td>26.609713</td>\n",
              "      <td>76.0</td>\n",
              "      <td>169.0</td>\n",
              "      <td>60.0</td>\n",
              "      <td>38.0</td>\n",
              "      <td>94.0</td>\n",
              "      <td>107.0</td>\n",
              "      <td>56.0</td>\n",
              "      <td>41.079545</td>\n",
              "      <td>1</td>\n",
              "    </tr>\n",
              "    <tr>\n",
              "      <th>5242</th>\n",
              "      <td>1</td>\n",
              "      <td>1.0</td>\n",
              "      <td>7.0</td>\n",
              "      <td>32.461911</td>\n",
              "      <td>75.0</td>\n",
              "      <td>152.0</td>\n",
              "      <td>56.0</td>\n",
              "      <td>41.0</td>\n",
              "      <td>94.5</td>\n",
              "      <td>105.0</td>\n",
              "      <td>43.0</td>\n",
              "      <td>62.107728</td>\n",
              "      <td>1</td>\n",
              "    </tr>\n",
              "    <tr>\n",
              "      <th>5243</th>\n",
              "      <td>1</td>\n",
              "      <td>0.0</td>\n",
              "      <td>13.0</td>\n",
              "      <td>30.778701</td>\n",
              "      <td>90.0</td>\n",
              "      <td>171.0</td>\n",
              "      <td>59.5</td>\n",
              "      <td>43.0</td>\n",
              "      <td>113.8</td>\n",
              "      <td>98.0</td>\n",
              "      <td>35.0</td>\n",
              "      <td>107.491166</td>\n",
              "      <td>1</td>\n",
              "    </tr>\n",
              "    <tr>\n",
              "      <th>5244</th>\n",
              "      <td>0</td>\n",
              "      <td>0.0</td>\n",
              "      <td>11.0</td>\n",
              "      <td>20.545694</td>\n",
              "      <td>50.0</td>\n",
              "      <td>156.0</td>\n",
              "      <td>53.0</td>\n",
              "      <td>29.0</td>\n",
              "      <td>70.5</td>\n",
              "      <td>86.5</td>\n",
              "      <td>38.0</td>\n",
              "      <td>11.830000</td>\n",
              "      <td>0</td>\n",
              "    </tr>\n",
              "  </tbody>\n",
              "</table>\n",
              "<p>5241 rows × 13 columns</p>\n",
              "</div>"
            ],
            "text/plain": [
              "      Gender   BQ   ESS        BMI  ...  Buttock   Age         AHI  status\n",
              "0          0  0.0   9.0  26.291724  ...     98.0  58.0   30.000000       0\n",
              "1          1  0.0   8.0  22.183919  ...     96.0  45.0   29.020772       0\n",
              "2          1  0.0   0.0  24.258674  ...     96.0  38.0   34.859155       1\n",
              "3          0  0.0   9.0  28.338234  ...    104.0  36.0    1.660000       0\n",
              "4          1  1.0  12.0  43.598890  ...    129.0  35.0   75.380282       1\n",
              "...      ...  ...   ...        ...  ...      ...   ...         ...     ...\n",
              "5240       1  0.0   5.0  25.854639  ...    100.5  39.0   52.784810       1\n",
              "5241       1  0.0  19.0  26.609713  ...    107.0  56.0   41.079545       1\n",
              "5242       1  1.0   7.0  32.461911  ...    105.0  43.0   62.107728       1\n",
              "5243       1  0.0  13.0  30.778701  ...     98.0  35.0  107.491166       1\n",
              "5244       0  0.0  11.0  20.545694  ...     86.5  38.0   11.830000       0\n",
              "\n",
              "[5241 rows x 13 columns]"
            ]
          },
          "metadata": {
            "tags": []
          },
          "execution_count": 10
        }
      ]
    },
    {
      "cell_type": "code",
      "metadata": {
        "id": "7wq0oV2W7MmN"
      },
      "source": [
        "df1=df.drop(['Gender','status'],1)"
      ],
      "execution_count": null,
      "outputs": []
    },
    {
      "cell_type": "code",
      "metadata": {
        "id": "BBB_JFSn7Vh8"
      },
      "source": [
        "df1['Gender']=df['Gender']\n",
        "df1[\"status\"]=df['status']"
      ],
      "execution_count": null,
      "outputs": []
    },
    {
      "cell_type": "code",
      "metadata": {
        "colab": {
          "base_uri": "https://localhost:8080/",
          "height": 424
        },
        "id": "cJ9XoL2I7VnG",
        "outputId": "38c4a2d7-e83d-4418-8270-0dd61de8180b"
      },
      "source": [
        "df1"
      ],
      "execution_count": null,
      "outputs": [
        {
          "output_type": "execute_result",
          "data": {
            "text/html": [
              "<div>\n",
              "<style scoped>\n",
              "    .dataframe tbody tr th:only-of-type {\n",
              "        vertical-align: middle;\n",
              "    }\n",
              "\n",
              "    .dataframe tbody tr th {\n",
              "        vertical-align: top;\n",
              "    }\n",
              "\n",
              "    .dataframe thead th {\n",
              "        text-align: right;\n",
              "    }\n",
              "</style>\n",
              "<table border=\"1\" class=\"dataframe\">\n",
              "  <thead>\n",
              "    <tr style=\"text-align: right;\">\n",
              "      <th></th>\n",
              "      <th>BQ</th>\n",
              "      <th>ESS</th>\n",
              "      <th>BMI</th>\n",
              "      <th>Weight</th>\n",
              "      <th>Height</th>\n",
              "      <th>Head</th>\n",
              "      <th>Neck</th>\n",
              "      <th>Waist</th>\n",
              "      <th>Buttock</th>\n",
              "      <th>Age</th>\n",
              "      <th>AHI</th>\n",
              "      <th>Gender</th>\n",
              "      <th>status</th>\n",
              "    </tr>\n",
              "  </thead>\n",
              "  <tbody>\n",
              "    <tr>\n",
              "      <th>0</th>\n",
              "      <td>0.0</td>\n",
              "      <td>9.0</td>\n",
              "      <td>26.291724</td>\n",
              "      <td>69.0</td>\n",
              "      <td>162.0</td>\n",
              "      <td>53.6</td>\n",
              "      <td>36.0</td>\n",
              "      <td>87.5</td>\n",
              "      <td>98.0</td>\n",
              "      <td>58.0</td>\n",
              "      <td>30.000000</td>\n",
              "      <td>0</td>\n",
              "      <td>0</td>\n",
              "    </tr>\n",
              "    <tr>\n",
              "      <th>1</th>\n",
              "      <td>0.0</td>\n",
              "      <td>8.0</td>\n",
              "      <td>22.183919</td>\n",
              "      <td>69.5</td>\n",
              "      <td>177.0</td>\n",
              "      <td>56.0</td>\n",
              "      <td>37.0</td>\n",
              "      <td>85.0</td>\n",
              "      <td>96.0</td>\n",
              "      <td>45.0</td>\n",
              "      <td>29.020772</td>\n",
              "      <td>1</td>\n",
              "      <td>0</td>\n",
              "    </tr>\n",
              "    <tr>\n",
              "      <th>2</th>\n",
              "      <td>0.0</td>\n",
              "      <td>0.0</td>\n",
              "      <td>24.258674</td>\n",
              "      <td>76.0</td>\n",
              "      <td>177.0</td>\n",
              "      <td>55.5</td>\n",
              "      <td>36.4</td>\n",
              "      <td>83.5</td>\n",
              "      <td>96.0</td>\n",
              "      <td>38.0</td>\n",
              "      <td>34.859155</td>\n",
              "      <td>1</td>\n",
              "      <td>1</td>\n",
              "    </tr>\n",
              "    <tr>\n",
              "      <th>3</th>\n",
              "      <td>0.0</td>\n",
              "      <td>9.0</td>\n",
              "      <td>28.338234</td>\n",
              "      <td>73.0</td>\n",
              "      <td>160.5</td>\n",
              "      <td>55.0</td>\n",
              "      <td>34.3</td>\n",
              "      <td>86.0</td>\n",
              "      <td>104.0</td>\n",
              "      <td>36.0</td>\n",
              "      <td>1.660000</td>\n",
              "      <td>0</td>\n",
              "      <td>0</td>\n",
              "    </tr>\n",
              "    <tr>\n",
              "      <th>4</th>\n",
              "      <td>1.0</td>\n",
              "      <td>12.0</td>\n",
              "      <td>43.598890</td>\n",
              "      <td>132.0</td>\n",
              "      <td>174.0</td>\n",
              "      <td>62.0</td>\n",
              "      <td>51.5</td>\n",
              "      <td>133.0</td>\n",
              "      <td>129.0</td>\n",
              "      <td>35.0</td>\n",
              "      <td>75.380282</td>\n",
              "      <td>1</td>\n",
              "      <td>1</td>\n",
              "    </tr>\n",
              "    <tr>\n",
              "      <th>...</th>\n",
              "      <td>...</td>\n",
              "      <td>...</td>\n",
              "      <td>...</td>\n",
              "      <td>...</td>\n",
              "      <td>...</td>\n",
              "      <td>...</td>\n",
              "      <td>...</td>\n",
              "      <td>...</td>\n",
              "      <td>...</td>\n",
              "      <td>...</td>\n",
              "      <td>...</td>\n",
              "      <td>...</td>\n",
              "      <td>...</td>\n",
              "    </tr>\n",
              "    <tr>\n",
              "      <th>5240</th>\n",
              "      <td>0.0</td>\n",
              "      <td>5.0</td>\n",
              "      <td>25.854639</td>\n",
              "      <td>81.0</td>\n",
              "      <td>177.0</td>\n",
              "      <td>56.0</td>\n",
              "      <td>38.0</td>\n",
              "      <td>89.0</td>\n",
              "      <td>100.5</td>\n",
              "      <td>39.0</td>\n",
              "      <td>52.784810</td>\n",
              "      <td>1</td>\n",
              "      <td>1</td>\n",
              "    </tr>\n",
              "    <tr>\n",
              "      <th>5241</th>\n",
              "      <td>0.0</td>\n",
              "      <td>19.0</td>\n",
              "      <td>26.609713</td>\n",
              "      <td>76.0</td>\n",
              "      <td>169.0</td>\n",
              "      <td>60.0</td>\n",
              "      <td>38.0</td>\n",
              "      <td>94.0</td>\n",
              "      <td>107.0</td>\n",
              "      <td>56.0</td>\n",
              "      <td>41.079545</td>\n",
              "      <td>1</td>\n",
              "      <td>1</td>\n",
              "    </tr>\n",
              "    <tr>\n",
              "      <th>5242</th>\n",
              "      <td>1.0</td>\n",
              "      <td>7.0</td>\n",
              "      <td>32.461911</td>\n",
              "      <td>75.0</td>\n",
              "      <td>152.0</td>\n",
              "      <td>56.0</td>\n",
              "      <td>41.0</td>\n",
              "      <td>94.5</td>\n",
              "      <td>105.0</td>\n",
              "      <td>43.0</td>\n",
              "      <td>62.107728</td>\n",
              "      <td>1</td>\n",
              "      <td>1</td>\n",
              "    </tr>\n",
              "    <tr>\n",
              "      <th>5243</th>\n",
              "      <td>0.0</td>\n",
              "      <td>13.0</td>\n",
              "      <td>30.778701</td>\n",
              "      <td>90.0</td>\n",
              "      <td>171.0</td>\n",
              "      <td>59.5</td>\n",
              "      <td>43.0</td>\n",
              "      <td>113.8</td>\n",
              "      <td>98.0</td>\n",
              "      <td>35.0</td>\n",
              "      <td>107.491166</td>\n",
              "      <td>1</td>\n",
              "      <td>1</td>\n",
              "    </tr>\n",
              "    <tr>\n",
              "      <th>5244</th>\n",
              "      <td>0.0</td>\n",
              "      <td>11.0</td>\n",
              "      <td>20.545694</td>\n",
              "      <td>50.0</td>\n",
              "      <td>156.0</td>\n",
              "      <td>53.0</td>\n",
              "      <td>29.0</td>\n",
              "      <td>70.5</td>\n",
              "      <td>86.5</td>\n",
              "      <td>38.0</td>\n",
              "      <td>11.830000</td>\n",
              "      <td>0</td>\n",
              "      <td>0</td>\n",
              "    </tr>\n",
              "  </tbody>\n",
              "</table>\n",
              "<p>5241 rows × 13 columns</p>\n",
              "</div>"
            ],
            "text/plain": [
              "       BQ   ESS        BMI  Weight  ...   Age         AHI  Gender  status\n",
              "0     0.0   9.0  26.291724    69.0  ...  58.0   30.000000       0       0\n",
              "1     0.0   8.0  22.183919    69.5  ...  45.0   29.020772       1       0\n",
              "2     0.0   0.0  24.258674    76.0  ...  38.0   34.859155       1       1\n",
              "3     0.0   9.0  28.338234    73.0  ...  36.0    1.660000       0       0\n",
              "4     1.0  12.0  43.598890   132.0  ...  35.0   75.380282       1       1\n",
              "...   ...   ...        ...     ...  ...   ...         ...     ...     ...\n",
              "5240  0.0   5.0  25.854639    81.0  ...  39.0   52.784810       1       1\n",
              "5241  0.0  19.0  26.609713    76.0  ...  56.0   41.079545       1       1\n",
              "5242  1.0   7.0  32.461911    75.0  ...  43.0   62.107728       1       1\n",
              "5243  0.0  13.0  30.778701    90.0  ...  35.0  107.491166       1       1\n",
              "5244  0.0  11.0  20.545694    50.0  ...  38.0   11.830000       0       0\n",
              "\n",
              "[5241 rows x 13 columns]"
            ]
          },
          "metadata": {
            "tags": []
          },
          "execution_count": 13
        }
      ]
    },
    {
      "cell_type": "code",
      "metadata": {
        "id": "r88oczWf7V2u"
      },
      "source": [
        "x=np.array(df1.drop(['AHI',\"status\"],1))\n",
        "y=np.array(df1['status'])"
      ],
      "execution_count": null,
      "outputs": []
    },
    {
      "cell_type": "code",
      "metadata": {
        "id": "hu8PDdLM7idi"
      },
      "source": [
        "from sklearn.model_selection import train_test_split\n",
        "x_train,x_test,y_train,y_test=train_test_split(x,y,test_size=0.20)\n"
      ],
      "execution_count": null,
      "outputs": []
    },
    {
      "cell_type": "code",
      "metadata": {
        "id": "vvgfDyJW7ig6"
      },
      "source": [
        "from sklearn import linear_model,svm, tree\n",
        "from sklearn.linear_model import LogisticRegression,Ridge\n",
        "from sklearn.neighbors import KNeighborsClassifier\n",
        "from sklearn.tree import DecisionTreeRegressor"
      ],
      "execution_count": null,
      "outputs": []
    },
    {
      "cell_type": "code",
      "metadata": {
        "id": "xv_cUbTq7uKd"
      },
      "source": [
        "model1= linear_model.LinearRegression(fit_intercept=True)\n",
        "svr_poly = svm.SVR(kernel='linear', C=100, gamma='auto', degree=3, epsilon=.1,coef0=1)\n",
        "dtree = DecisionTreeRegressor(max_depth=10, min_samples_leaf=0.13, random_state=3)\n",
        "sv=svm.SVC(C=10,kernel='linear')"
      ],
      "execution_count": null,
      "outputs": []
    },
    {
      "cell_type": "code",
      "metadata": {
        "colab": {
          "base_uri": "https://localhost:8080/"
        },
        "id": "-atgik9t7uN-",
        "outputId": "711d088b-6335-40a3-d1c0-dea33b48b0ac"
      },
      "source": [
        "sv.fit(x_train,y_train)"
      ],
      "execution_count": null,
      "outputs": [
        {
          "output_type": "execute_result",
          "data": {
            "text/plain": [
              "SVC(C=10, break_ties=False, cache_size=200, class_weight=None, coef0=0.0,\n",
              "    decision_function_shape='ovr', degree=3, gamma='scale', kernel='linear',\n",
              "    max_iter=-1, probability=False, random_state=None, shrinking=True,\n",
              "    tol=0.001, verbose=False)"
            ]
          },
          "metadata": {
            "tags": []
          },
          "execution_count": 18
        }
      ]
    },
    {
      "cell_type": "code",
      "metadata": {
        "id": "WQyK7I7x7ikx"
      },
      "source": [
        "acc=sv.score(x_test,y_test)"
      ],
      "execution_count": null,
      "outputs": []
    },
    {
      "cell_type": "code",
      "metadata": {
        "colab": {
          "base_uri": "https://localhost:8080/"
        },
        "id": "Kk-i14wo77Pe",
        "outputId": "25775d86-2f50-404c-95b2-9e2f06538140"
      },
      "source": [
        "acc"
      ],
      "execution_count": null,
      "outputs": [
        {
          "output_type": "execute_result",
          "data": {
            "text/plain": [
              "0.776930409914204"
            ]
          },
          "metadata": {
            "tags": []
          },
          "execution_count": 20
        }
      ]
    },
    {
      "cell_type": "code",
      "metadata": {
        "id": "xr-Cd0OO78kL"
      },
      "source": [
        "p1=sv.predict(x_test)"
      ],
      "execution_count": null,
      "outputs": []
    },
    {
      "cell_type": "code",
      "metadata": {
        "id": "uHrYUnTe78nC"
      },
      "source": [
        "from tensorflow.keras.models import Sequential\n",
        "from tensorflow.keras.layers import Dense, Activation,Flatten,Dropout\n",
        "from tensorflow.keras.models import Model\n",
        "from tensorflow.keras.optimizers import Adam\n",
        "#from tensorflow.python.keras.layers.kernelized import RandomFourierFeatures\n",
        "from tensorflow.keras import layers\n"
      ],
      "execution_count": null,
      "outputs": []
    },
    {
      "cell_type": "code",
      "metadata": {
        "colab": {
          "base_uri": "https://localhost:8080/"
        },
        "id": "3xeWj_cY8DjQ",
        "outputId": "068541ef-d684-488a-9b1c-8fb90d702d74"
      },
      "source": [
        "model=Sequential()\n",
        "model.add(Dense(30,activation='relu',input_shape=[x_train.shape[1]]))\n",
        "model.add(Dropout(.02))\n",
        "model.add(Dense(10,activation='relu'))\n",
        "model.add(Dropout(.02))\n",
        "model.add(Dense(50,activation='relu'))\n",
        "#model.add(Dense(50,activation='relu'))\n",
        "\n",
        "model.add(Dense(1,activation='sigmoid'))\n",
        "model.compile(Adam(lr=0.01),loss='binary_crossentropy',metrics=['accuracy'])\n",
        "model.fit(x_train,y_train,epochs=100,validation_split=0.2)"
      ],
      "execution_count": null,
      "outputs": [
        {
          "output_type": "stream",
          "text": [
            "Epoch 1/100\n",
            "105/105 [==============================] - 4s 6ms/step - loss: 1.9295 - accuracy: 0.5237 - val_loss: 0.6595 - val_accuracy: 0.5864\n",
            "Epoch 2/100\n",
            "105/105 [==============================] - 0s 3ms/step - loss: 0.6795 - accuracy: 0.5520 - val_loss: 0.6825 - val_accuracy: 0.5864\n",
            "Epoch 3/100\n",
            "105/105 [==============================] - 0s 3ms/step - loss: 0.6843 - accuracy: 0.5675 - val_loss: 0.5839 - val_accuracy: 0.5948\n",
            "Epoch 4/100\n",
            "105/105 [==============================] - 0s 3ms/step - loss: 0.6167 - accuracy: 0.6042 - val_loss: 0.5890 - val_accuracy: 0.6937\n",
            "Epoch 5/100\n",
            "105/105 [==============================] - 0s 3ms/step - loss: 0.5984 - accuracy: 0.7081 - val_loss: 0.4968 - val_accuracy: 0.7878\n",
            "Epoch 6/100\n",
            "105/105 [==============================] - 0s 3ms/step - loss: 0.5240 - accuracy: 0.7455 - val_loss: 0.4637 - val_accuracy: 0.7878\n",
            "Epoch 7/100\n",
            "105/105 [==============================] - 0s 3ms/step - loss: 0.5546 - accuracy: 0.7209 - val_loss: 0.4626 - val_accuracy: 0.7878\n",
            "Epoch 8/100\n",
            "105/105 [==============================] - 0s 3ms/step - loss: 0.5408 - accuracy: 0.7345 - val_loss: 0.4865 - val_accuracy: 0.7962\n",
            "Epoch 9/100\n",
            "105/105 [==============================] - 0s 3ms/step - loss: 0.5200 - accuracy: 0.7482 - val_loss: 0.4730 - val_accuracy: 0.7938\n",
            "Epoch 10/100\n",
            "105/105 [==============================] - 0s 3ms/step - loss: 0.5146 - accuracy: 0.7392 - val_loss: 0.4794 - val_accuracy: 0.7557\n",
            "Epoch 11/100\n",
            "105/105 [==============================] - 0s 3ms/step - loss: 0.5305 - accuracy: 0.7228 - val_loss: 0.4566 - val_accuracy: 0.7890\n",
            "Epoch 12/100\n",
            "105/105 [==============================] - 0s 3ms/step - loss: 0.5210 - accuracy: 0.7485 - val_loss: 0.5988 - val_accuracy: 0.6746\n",
            "Epoch 13/100\n",
            "105/105 [==============================] - 0s 3ms/step - loss: 0.5374 - accuracy: 0.7243 - val_loss: 0.5581 - val_accuracy: 0.7878\n",
            "Epoch 14/100\n",
            "105/105 [==============================] - 0s 3ms/step - loss: 0.5237 - accuracy: 0.7570 - val_loss: 0.4482 - val_accuracy: 0.7902\n",
            "Epoch 15/100\n",
            "105/105 [==============================] - 0s 3ms/step - loss: 0.5063 - accuracy: 0.7614 - val_loss: 0.4931 - val_accuracy: 0.7259\n",
            "Epoch 16/100\n",
            "105/105 [==============================] - 0s 3ms/step - loss: 0.5248 - accuracy: 0.7336 - val_loss: 0.4413 - val_accuracy: 0.7962\n",
            "Epoch 17/100\n",
            "105/105 [==============================] - 0s 3ms/step - loss: 0.5112 - accuracy: 0.7573 - val_loss: 0.4574 - val_accuracy: 0.7878\n",
            "Epoch 18/100\n",
            "105/105 [==============================] - 0s 3ms/step - loss: 0.4807 - accuracy: 0.7670 - val_loss: 0.4852 - val_accuracy: 0.7831\n",
            "Epoch 19/100\n",
            "105/105 [==============================] - 0s 3ms/step - loss: 0.5161 - accuracy: 0.7402 - val_loss: 0.4749 - val_accuracy: 0.7628\n",
            "Epoch 20/100\n",
            "105/105 [==============================] - 0s 3ms/step - loss: 0.4925 - accuracy: 0.7617 - val_loss: 0.5142 - val_accuracy: 0.7485\n",
            "Epoch 21/100\n",
            "105/105 [==============================] - 0s 3ms/step - loss: 0.4934 - accuracy: 0.7539 - val_loss: 0.4884 - val_accuracy: 0.7426\n",
            "Epoch 22/100\n",
            "105/105 [==============================] - 0s 3ms/step - loss: 0.4971 - accuracy: 0.7612 - val_loss: 0.4291 - val_accuracy: 0.7962\n",
            "Epoch 23/100\n",
            "105/105 [==============================] - 0s 3ms/step - loss: 0.4755 - accuracy: 0.7665 - val_loss: 0.4514 - val_accuracy: 0.7831\n",
            "Epoch 24/100\n",
            "105/105 [==============================] - 0s 3ms/step - loss: 0.4935 - accuracy: 0.7539 - val_loss: 0.4387 - val_accuracy: 0.7986\n",
            "Epoch 25/100\n",
            "105/105 [==============================] - 0s 3ms/step - loss: 0.5038 - accuracy: 0.7572 - val_loss: 0.4620 - val_accuracy: 0.7986\n",
            "Epoch 26/100\n",
            "105/105 [==============================] - 0s 3ms/step - loss: 0.4824 - accuracy: 0.7733 - val_loss: 0.4453 - val_accuracy: 0.7843\n",
            "Epoch 27/100\n",
            "105/105 [==============================] - 0s 4ms/step - loss: 0.4828 - accuracy: 0.7544 - val_loss: 0.4529 - val_accuracy: 0.8010\n",
            "Epoch 28/100\n",
            "105/105 [==============================] - 0s 3ms/step - loss: 0.4760 - accuracy: 0.7715 - val_loss: 0.4417 - val_accuracy: 0.7938\n",
            "Epoch 29/100\n",
            "105/105 [==============================] - 0s 3ms/step - loss: 0.5063 - accuracy: 0.7476 - val_loss: 0.4372 - val_accuracy: 0.7974\n",
            "Epoch 30/100\n",
            "105/105 [==============================] - 0s 3ms/step - loss: 0.4767 - accuracy: 0.7694 - val_loss: 0.4334 - val_accuracy: 0.7998\n",
            "Epoch 31/100\n",
            "105/105 [==============================] - 0s 3ms/step - loss: 0.5108 - accuracy: 0.7455 - val_loss: 0.4421 - val_accuracy: 0.7819\n",
            "Epoch 32/100\n",
            "105/105 [==============================] - 0s 3ms/step - loss: 0.4923 - accuracy: 0.7547 - val_loss: 0.4918 - val_accuracy: 0.7759\n",
            "Epoch 33/100\n",
            "105/105 [==============================] - 0s 3ms/step - loss: 0.4983 - accuracy: 0.7572 - val_loss: 0.4463 - val_accuracy: 0.7950\n",
            "Epoch 34/100\n",
            "105/105 [==============================] - 0s 3ms/step - loss: 0.4890 - accuracy: 0.7653 - val_loss: 0.4341 - val_accuracy: 0.7914\n",
            "Epoch 35/100\n",
            "105/105 [==============================] - 0s 3ms/step - loss: 0.4869 - accuracy: 0.7551 - val_loss: 0.4419 - val_accuracy: 0.7867\n",
            "Epoch 36/100\n",
            "105/105 [==============================] - 0s 3ms/step - loss: 0.4995 - accuracy: 0.7582 - val_loss: 0.4609 - val_accuracy: 0.7676\n",
            "Epoch 37/100\n",
            "105/105 [==============================] - 0s 3ms/step - loss: 0.4724 - accuracy: 0.7671 - val_loss: 0.4339 - val_accuracy: 0.7950\n",
            "Epoch 38/100\n",
            "105/105 [==============================] - 0s 3ms/step - loss: 0.4728 - accuracy: 0.7714 - val_loss: 0.4697 - val_accuracy: 0.7533\n",
            "Epoch 39/100\n",
            "105/105 [==============================] - 0s 3ms/step - loss: 0.4833 - accuracy: 0.7574 - val_loss: 0.4357 - val_accuracy: 0.7950\n",
            "Epoch 40/100\n",
            "105/105 [==============================] - 0s 3ms/step - loss: 0.4628 - accuracy: 0.7788 - val_loss: 0.4288 - val_accuracy: 0.8010\n",
            "Epoch 41/100\n",
            "105/105 [==============================] - 0s 3ms/step - loss: 0.5079 - accuracy: 0.7411 - val_loss: 0.4287 - val_accuracy: 0.7974\n",
            "Epoch 42/100\n",
            "105/105 [==============================] - 0s 3ms/step - loss: 0.4903 - accuracy: 0.7540 - val_loss: 0.4328 - val_accuracy: 0.7938\n",
            "Epoch 43/100\n",
            "105/105 [==============================] - 0s 3ms/step - loss: 0.4819 - accuracy: 0.7656 - val_loss: 0.4392 - val_accuracy: 0.7878\n",
            "Epoch 44/100\n",
            "105/105 [==============================] - 0s 3ms/step - loss: 0.4690 - accuracy: 0.7669 - val_loss: 0.4293 - val_accuracy: 0.7986\n",
            "Epoch 45/100\n",
            "105/105 [==============================] - 0s 3ms/step - loss: 0.5099 - accuracy: 0.7436 - val_loss: 0.4483 - val_accuracy: 0.7902\n",
            "Epoch 46/100\n",
            "105/105 [==============================] - 0s 3ms/step - loss: 0.4849 - accuracy: 0.7582 - val_loss: 0.4612 - val_accuracy: 0.7878\n",
            "Epoch 47/100\n",
            "105/105 [==============================] - 0s 3ms/step - loss: 0.4932 - accuracy: 0.7725 - val_loss: 0.4451 - val_accuracy: 0.7807\n",
            "Epoch 48/100\n",
            "105/105 [==============================] - 0s 3ms/step - loss: 0.4804 - accuracy: 0.7619 - val_loss: 0.4346 - val_accuracy: 0.7867\n",
            "Epoch 49/100\n",
            "105/105 [==============================] - 0s 3ms/step - loss: 0.4737 - accuracy: 0.7780 - val_loss: 0.4399 - val_accuracy: 0.7819\n",
            "Epoch 50/100\n",
            "105/105 [==============================] - 0s 3ms/step - loss: 0.4902 - accuracy: 0.7603 - val_loss: 0.4645 - val_accuracy: 0.7819\n",
            "Epoch 51/100\n",
            "105/105 [==============================] - 0s 3ms/step - loss: 0.4759 - accuracy: 0.7694 - val_loss: 0.4522 - val_accuracy: 0.7843\n",
            "Epoch 52/100\n",
            "105/105 [==============================] - 0s 3ms/step - loss: 0.4833 - accuracy: 0.7561 - val_loss: 0.4329 - val_accuracy: 0.7878\n",
            "Epoch 53/100\n",
            "105/105 [==============================] - 0s 3ms/step - loss: 0.5049 - accuracy: 0.7298 - val_loss: 0.4342 - val_accuracy: 0.7914\n",
            "Epoch 54/100\n",
            "105/105 [==============================] - 0s 3ms/step - loss: 0.4728 - accuracy: 0.7747 - val_loss: 0.4537 - val_accuracy: 0.7783\n",
            "Epoch 55/100\n",
            "105/105 [==============================] - 0s 3ms/step - loss: 0.4907 - accuracy: 0.7607 - val_loss: 0.4496 - val_accuracy: 0.7747\n",
            "Epoch 56/100\n",
            "105/105 [==============================] - 0s 3ms/step - loss: 0.4849 - accuracy: 0.7518 - val_loss: 0.4507 - val_accuracy: 0.7735\n",
            "Epoch 57/100\n",
            "105/105 [==============================] - 0s 3ms/step - loss: 0.4804 - accuracy: 0.7719 - val_loss: 0.4409 - val_accuracy: 0.7926\n",
            "Epoch 58/100\n",
            "105/105 [==============================] - 0s 3ms/step - loss: 0.4715 - accuracy: 0.7780 - val_loss: 0.4347 - val_accuracy: 0.7831\n",
            "Epoch 59/100\n",
            "105/105 [==============================] - 0s 3ms/step - loss: 0.4689 - accuracy: 0.7610 - val_loss: 0.4280 - val_accuracy: 0.7855\n",
            "Epoch 60/100\n",
            "105/105 [==============================] - 0s 3ms/step - loss: 0.5117 - accuracy: 0.7563 - val_loss: 0.4769 - val_accuracy: 0.7723\n",
            "Epoch 61/100\n",
            "105/105 [==============================] - 0s 3ms/step - loss: 0.4889 - accuracy: 0.7512 - val_loss: 0.4387 - val_accuracy: 0.7747\n",
            "Epoch 62/100\n",
            "105/105 [==============================] - 0s 3ms/step - loss: 0.4933 - accuracy: 0.7400 - val_loss: 0.4965 - val_accuracy: 0.7676\n",
            "Epoch 63/100\n",
            "105/105 [==============================] - 0s 3ms/step - loss: 0.4846 - accuracy: 0.7821 - val_loss: 0.4498 - val_accuracy: 0.7878\n",
            "Epoch 64/100\n",
            "105/105 [==============================] - 0s 3ms/step - loss: 0.4725 - accuracy: 0.7665 - val_loss: 0.4365 - val_accuracy: 0.7890\n",
            "Epoch 65/100\n",
            "105/105 [==============================] - 0s 3ms/step - loss: 0.4846 - accuracy: 0.7621 - val_loss: 0.4434 - val_accuracy: 0.7771\n",
            "Epoch 66/100\n",
            "105/105 [==============================] - 0s 3ms/step - loss: 0.4710 - accuracy: 0.7615 - val_loss: 0.4340 - val_accuracy: 0.7831\n",
            "Epoch 67/100\n",
            "105/105 [==============================] - 0s 3ms/step - loss: 0.4770 - accuracy: 0.7534 - val_loss: 0.4513 - val_accuracy: 0.7914\n",
            "Epoch 68/100\n",
            "105/105 [==============================] - 0s 3ms/step - loss: 0.4831 - accuracy: 0.7639 - val_loss: 0.4771 - val_accuracy: 0.7616\n",
            "Epoch 69/100\n",
            "105/105 [==============================] - 0s 3ms/step - loss: 0.5089 - accuracy: 0.7427 - val_loss: 0.4523 - val_accuracy: 0.7974\n",
            "Epoch 70/100\n",
            "105/105 [==============================] - 0s 3ms/step - loss: 0.4855 - accuracy: 0.7602 - val_loss: 0.4801 - val_accuracy: 0.7437\n",
            "Epoch 71/100\n",
            "105/105 [==============================] - 0s 3ms/step - loss: 0.4924 - accuracy: 0.7644 - val_loss: 0.4520 - val_accuracy: 0.7735\n",
            "Epoch 72/100\n",
            "105/105 [==============================] - 0s 3ms/step - loss: 0.4946 - accuracy: 0.7530 - val_loss: 0.4509 - val_accuracy: 0.7700\n",
            "Epoch 73/100\n",
            "105/105 [==============================] - 0s 3ms/step - loss: 0.4833 - accuracy: 0.7613 - val_loss: 0.4360 - val_accuracy: 0.7926\n",
            "Epoch 74/100\n",
            "105/105 [==============================] - 0s 3ms/step - loss: 0.4904 - accuracy: 0.7610 - val_loss: 0.4977 - val_accuracy: 0.7557\n",
            "Epoch 75/100\n",
            "105/105 [==============================] - 0s 3ms/step - loss: 0.5041 - accuracy: 0.7539 - val_loss: 0.4353 - val_accuracy: 0.7855\n",
            "Epoch 76/100\n",
            "105/105 [==============================] - 0s 3ms/step - loss: 0.4752 - accuracy: 0.7638 - val_loss: 0.4450 - val_accuracy: 0.7890\n",
            "Epoch 77/100\n",
            "105/105 [==============================] - 0s 3ms/step - loss: 0.4643 - accuracy: 0.7763 - val_loss: 0.4702 - val_accuracy: 0.7747\n",
            "Epoch 78/100\n",
            "105/105 [==============================] - 0s 3ms/step - loss: 0.4933 - accuracy: 0.7669 - val_loss: 0.5056 - val_accuracy: 0.7688\n",
            "Epoch 79/100\n",
            "105/105 [==============================] - 0s 3ms/step - loss: 0.5302 - accuracy: 0.7441 - val_loss: 0.5027 - val_accuracy: 0.7807\n",
            "Epoch 80/100\n",
            "105/105 [==============================] - 0s 3ms/step - loss: 0.5320 - accuracy: 0.7398 - val_loss: 0.4689 - val_accuracy: 0.7771\n",
            "Epoch 81/100\n",
            "105/105 [==============================] - 0s 3ms/step - loss: 0.5222 - accuracy: 0.7450 - val_loss: 0.5588 - val_accuracy: 0.7449\n",
            "Epoch 82/100\n",
            "105/105 [==============================] - 0s 3ms/step - loss: 0.4961 - accuracy: 0.7482 - val_loss: 0.4764 - val_accuracy: 0.7569\n",
            "Epoch 83/100\n",
            "105/105 [==============================] - 0s 3ms/step - loss: 0.4913 - accuracy: 0.7590 - val_loss: 0.4326 - val_accuracy: 0.7843\n",
            "Epoch 84/100\n",
            "105/105 [==============================] - 0s 3ms/step - loss: 0.4689 - accuracy: 0.7636 - val_loss: 0.4280 - val_accuracy: 0.7974\n",
            "Epoch 85/100\n",
            "105/105 [==============================] - 0s 3ms/step - loss: 0.4692 - accuracy: 0.7642 - val_loss: 0.4286 - val_accuracy: 0.8010\n",
            "Epoch 86/100\n",
            "105/105 [==============================] - 0s 3ms/step - loss: 0.4977 - accuracy: 0.7602 - val_loss: 0.4315 - val_accuracy: 0.7914\n",
            "Epoch 87/100\n",
            "105/105 [==============================] - 0s 3ms/step - loss: 0.4715 - accuracy: 0.7752 - val_loss: 0.4655 - val_accuracy: 0.7676\n",
            "Epoch 88/100\n",
            "105/105 [==============================] - 0s 3ms/step - loss: 0.4978 - accuracy: 0.7390 - val_loss: 0.4528 - val_accuracy: 0.7795\n",
            "Epoch 89/100\n",
            "105/105 [==============================] - 0s 3ms/step - loss: 0.4763 - accuracy: 0.7558 - val_loss: 0.4398 - val_accuracy: 0.7914\n",
            "Epoch 90/100\n",
            "105/105 [==============================] - 0s 3ms/step - loss: 0.4681 - accuracy: 0.7722 - val_loss: 0.4360 - val_accuracy: 0.7962\n",
            "Epoch 91/100\n",
            "105/105 [==============================] - 0s 3ms/step - loss: 0.4892 - accuracy: 0.7589 - val_loss: 0.4495 - val_accuracy: 0.7819\n",
            "Epoch 92/100\n",
            "105/105 [==============================] - 0s 3ms/step - loss: 0.5045 - accuracy: 0.7584 - val_loss: 0.4384 - val_accuracy: 0.7926\n",
            "Epoch 93/100\n",
            "105/105 [==============================] - 0s 3ms/step - loss: 0.4766 - accuracy: 0.7747 - val_loss: 0.4648 - val_accuracy: 0.7664\n",
            "Epoch 94/100\n",
            "105/105 [==============================] - 0s 3ms/step - loss: 0.4988 - accuracy: 0.7584 - val_loss: 0.4375 - val_accuracy: 0.7855\n",
            "Epoch 95/100\n",
            "105/105 [==============================] - 0s 3ms/step - loss: 0.4808 - accuracy: 0.7683 - val_loss: 0.4370 - val_accuracy: 0.7890\n",
            "Epoch 96/100\n",
            "105/105 [==============================] - 0s 3ms/step - loss: 0.4896 - accuracy: 0.7619 - val_loss: 0.4384 - val_accuracy: 0.7771\n",
            "Epoch 97/100\n",
            "105/105 [==============================] - 0s 3ms/step - loss: 0.4820 - accuracy: 0.7586 - val_loss: 0.4588 - val_accuracy: 0.7890\n",
            "Epoch 98/100\n",
            "105/105 [==============================] - 0s 3ms/step - loss: 0.4905 - accuracy: 0.7598 - val_loss: 0.5085 - val_accuracy: 0.7735\n",
            "Epoch 99/100\n",
            "105/105 [==============================] - 0s 3ms/step - loss: 0.4867 - accuracy: 0.7776 - val_loss: 0.4582 - val_accuracy: 0.7676\n",
            "Epoch 100/100\n",
            "105/105 [==============================] - 0s 3ms/step - loss: 0.4717 - accuracy: 0.7719 - val_loss: 0.4482 - val_accuracy: 0.7855\n"
          ],
          "name": "stdout"
        },
        {
          "output_type": "execute_result",
          "data": {
            "text/plain": [
              "<tensorflow.python.keras.callbacks.History at 0x7f4521e9e2d0>"
            ]
          },
          "metadata": {
            "tags": []
          },
          "execution_count": 24
        }
      ]
    },
    {
      "cell_type": "code",
      "metadata": {
        "colab": {
          "base_uri": "https://localhost:8080/"
        },
        "id": "u7uA9vPn8Ve9",
        "outputId": "d314b46e-9a5b-4d01-af7f-226b5b9c508f"
      },
      "source": [
        "model.predict([[  0.  ,   0.  ,  24.22,  70.  , 170.  ,  58.5 ,  42.  ,  92.5 ,\n",
        "        99.  ,  60.  ,   1. ]])"
      ],
      "execution_count": null,
      "outputs": [
        {
          "output_type": "execute_result",
          "data": {
            "text/plain": [
              "array([[0.42722225]], dtype=float32)"
            ]
          },
          "metadata": {
            "tags": []
          },
          "execution_count": 25
        }
      ]
    },
    {
      "cell_type": "code",
      "metadata": {
        "id": "jwVtPhWN8b3I"
      },
      "source": [
        "\n",
        "\n",
        "p=model.predict(x_test)\n",
        "\n"
      ],
      "execution_count": null,
      "outputs": []
    },
    {
      "cell_type": "code",
      "metadata": {
        "colab": {
          "base_uri": "https://localhost:8080/"
        },
        "id": "CzcHLSre8b6t",
        "outputId": "9d8c21fa-df23-43c0-befe-b28f9325e5b1"
      },
      "source": [
        "p[1047]"
      ],
      "execution_count": null,
      "outputs": [
        {
          "output_type": "execute_result",
          "data": {
            "text/plain": [
              "array([0.00998751], dtype=float32)"
            ]
          },
          "metadata": {
            "tags": []
          },
          "execution_count": 27
        }
      ]
    },
    {
      "cell_type": "code",
      "metadata": {
        "colab": {
          "base_uri": "https://localhost:8080/"
        },
        "id": "Q_pCU0c88jPP",
        "outputId": "bf1309f4-57e3-4fdd-bfcf-2225e9f5c63e"
      },
      "source": [
        "y_test[1047]"
      ],
      "execution_count": null,
      "outputs": [
        {
          "output_type": "execute_result",
          "data": {
            "text/plain": [
              "0"
            ]
          },
          "metadata": {
            "tags": []
          },
          "execution_count": 28
        }
      ]
    },
    {
      "cell_type": "code",
      "metadata": {
        "colab": {
          "base_uri": "https://localhost:8080/"
        },
        "id": "0gucdPv-8jSm",
        "outputId": "63955e25-c856-42ab-8d42-4bf8ef524d3d"
      },
      "source": [
        "keras_file=\"model_tensor\"\n",
        "keras.models.save_model(model,keras_file)"
      ],
      "execution_count": null,
      "outputs": [
        {
          "output_type": "stream",
          "text": [
            "INFO:tensorflow:Assets written to: model_tensor/assets\n"
          ],
          "name": "stdout"
        }
      ]
    },
    {
      "cell_type": "code",
      "metadata": {
        "colab": {
          "base_uri": "https://localhost:8080/"
        },
        "id": "BXocwZVv8q8e",
        "outputId": "1d77c629-a21d-4a32-8de6-5be376ba3ca6"
      },
      "source": [
        "import tensorflow\n",
        "converter = tensorflow.lite.TFLiteConverter.from_saved_model(keras_file)\n",
        "tflite_model=converter.convert()\n",
        "open(\"tflitemodel.tflite\",\"wb\").write(tflite_model)\n"
      ],
      "execution_count": null,
      "outputs": [
        {
          "output_type": "execute_result",
          "data": {
            "text/plain": [
              "7024"
            ]
          },
          "metadata": {
            "tags": []
          },
          "execution_count": 30
        }
      ]
    }
  ]
}
