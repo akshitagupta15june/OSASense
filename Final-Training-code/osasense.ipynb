{
  "nbformat": 4,
  "nbformat_minor": 0,
  "metadata": {
    "colab": {
      "name": "osasense.ipynb",
      "provenance": [],
      "authorship_tag": "ABX9TyPLmRw2Am3VWdWEJQ6sbjln",
      "include_colab_link": true
    },
    "kernelspec": {
      "name": "python3",
      "display_name": "Python 3"
    },
    "language_info": {
      "name": "python"
    },
    "accelerator": "GPU"
  },
  "cells": [
    {
      "cell_type": "markdown",
      "metadata": {
        "id": "view-in-github",
        "colab_type": "text"
      },
      "source": [
        "<a href=\"https://colab.research.google.com/github/akshitagupta15june/OSASense/blob/main/osasense.ipynb\" target=\"_parent\"><img src=\"https://colab.research.google.com/assets/colab-badge.svg\" alt=\"Open In Colab\"/></a>"
      ]
    },
    {
      "cell_type": "code",
      "metadata": {
        "colab": {
          "base_uri": "https://localhost:8080/",
          "height": 35
        },
        "id": "_1S0sKKjxfMl",
        "outputId": "fa05290a-0182-4aaf-ae2d-c16a208585fd"
      },
      "source": [
        "import tensorflow as tf\n",
        "tf.test.gpu_device_name()"
      ],
      "execution_count": 1,
      "outputs": [
        {
          "output_type": "execute_result",
          "data": {
            "application/vnd.google.colaboratory.intrinsic+json": {
              "type": "string"
            },
            "text/plain": [
              "'/device:GPU:0'"
            ]
          },
          "metadata": {
            "tags": []
          },
          "execution_count": 1
        }
      ]
    },
    {
      "cell_type": "code",
      "metadata": {
        "colab": {
          "base_uri": "https://localhost:8080/"
        },
        "id": "_2jTtguJ1iQc",
        "outputId": "127ec0d6-8a21-441b-f728-c6a91082c45c"
      },
      "source": [
        "from tensorflow.python.client import device_lib\n",
        "device_lib.list_local_devices()"
      ],
      "execution_count": 2,
      "outputs": [
        {
          "output_type": "execute_result",
          "data": {
            "text/plain": [
              "[name: \"/device:CPU:0\"\n",
              " device_type: \"CPU\"\n",
              " memory_limit: 268435456\n",
              " locality {\n",
              " }\n",
              " incarnation: 4339071086288115981, name: \"/device:GPU:0\"\n",
              " device_type: \"GPU\"\n",
              " memory_limit: 14674281152\n",
              " locality {\n",
              "   bus_id: 1\n",
              "   links {\n",
              "   }\n",
              " }\n",
              " incarnation: 4248203340825268888\n",
              " physical_device_desc: \"device: 0, name: Tesla T4, pci bus id: 0000:00:04.0, compute capability: 7.5\"]"
            ]
          },
          "metadata": {
            "tags": []
          },
          "execution_count": 2
        }
      ]
    },
    {
      "cell_type": "code",
      "metadata": {
        "id": "_qOidwkJ1ZB2"
      },
      "source": [
        "from tensorflow import keras\n",
        "import sklearn\n",
        "import numpy as np\n",
        "import pandas as pd\n",
        "from tensorflow.keras.layers import Dense,Dropout,LSTM\n",
        "from tensorflow.keras.models import Sequential\n",
        "from google.colab import files"
      ],
      "execution_count": 3,
      "outputs": []
    },
    {
      "cell_type": "code",
      "metadata": {
        "id": "umtTSYk0dJPi"
      },
      "source": [
        "df='sleeep_apnea_data.xlsx'\n",
        "main_df=pd.read_excel(df,'male')\n"
      ],
      "execution_count": 4,
      "outputs": []
    },
    {
      "cell_type": "code",
      "metadata": {
        "id": "STFdQbLAdYDj"
      },
      "source": [
        "df=main_df.sample(frac=1).reset_index(drop=True)\n",
        "df.dropna(inplace=True)"
      ],
      "execution_count": 5,
      "outputs": []
    },
    {
      "cell_type": "code",
      "metadata": {
        "id": "O_JS_CPNdq5e"
      },
      "source": [
        "from sklearn.preprocessing import LabelEncoder\n",
        "le=LabelEncoder()"
      ],
      "execution_count": 6,
      "outputs": []
    },
    {
      "cell_type": "code",
      "metadata": {
        "id": "YhudBFK7drBI"
      },
      "source": [
        "df.Gender=le.fit_transform(df.Gender)"
      ],
      "execution_count": 7,
      "outputs": []
    },
    {
      "cell_type": "code",
      "metadata": {
        "id": "lVQ7O_sXdxvz"
      },
      "source": [
        "def fun(num): \n",
        "  \n",
        "    if num<=30: \n",
        "        return 0\n",
        "    else: \n",
        "        return 1"
      ],
      "execution_count": 8,
      "outputs": []
    },
    {
      "cell_type": "code",
      "metadata": {
        "id": "4SF1gQPVd1Zb"
      },
      "source": [
        "df['status']=df.AHI.apply(fun)\n",
        "status=[\"negative\",\"positive\"]\n"
      ],
      "execution_count": 9,
      "outputs": []
    },
    {
      "cell_type": "code",
      "metadata": {
        "colab": {
          "base_uri": "https://localhost:8080/",
          "height": 424
        },
        "id": "di_bXBfid4VV",
        "outputId": "238233d2-77e1-4dfa-b9f9-cc6c0cf15a0e"
      },
      "source": [
        "df"
      ],
      "execution_count": 10,
      "outputs": [
        {
          "output_type": "execute_result",
          "data": {
            "text/html": [
              "<div>\n",
              "<style scoped>\n",
              "    .dataframe tbody tr th:only-of-type {\n",
              "        vertical-align: middle;\n",
              "    }\n",
              "\n",
              "    .dataframe tbody tr th {\n",
              "        vertical-align: top;\n",
              "    }\n",
              "\n",
              "    .dataframe thead th {\n",
              "        text-align: right;\n",
              "    }\n",
              "</style>\n",
              "<table border=\"1\" class=\"dataframe\">\n",
              "  <thead>\n",
              "    <tr style=\"text-align: right;\">\n",
              "      <th></th>\n",
              "      <th>Gender</th>\n",
              "      <th>BQ</th>\n",
              "      <th>ESS</th>\n",
              "      <th>BMI</th>\n",
              "      <th>Weight</th>\n",
              "      <th>Height</th>\n",
              "      <th>Head</th>\n",
              "      <th>Neck</th>\n",
              "      <th>Waist</th>\n",
              "      <th>Buttock</th>\n",
              "      <th>Age</th>\n",
              "      <th>AHI</th>\n",
              "      <th>status</th>\n",
              "    </tr>\n",
              "  </thead>\n",
              "  <tbody>\n",
              "    <tr>\n",
              "      <th>0</th>\n",
              "      <td>0</td>\n",
              "      <td>0.0</td>\n",
              "      <td>9.0</td>\n",
              "      <td>26.291724</td>\n",
              "      <td>69.0</td>\n",
              "      <td>162.0</td>\n",
              "      <td>53.6</td>\n",
              "      <td>36.0</td>\n",
              "      <td>87.5</td>\n",
              "      <td>98.0</td>\n",
              "      <td>58.0</td>\n",
              "      <td>30.000000</td>\n",
              "      <td>0</td>\n",
              "    </tr>\n",
              "    <tr>\n",
              "      <th>1</th>\n",
              "      <td>1</td>\n",
              "      <td>0.0</td>\n",
              "      <td>8.0</td>\n",
              "      <td>22.183919</td>\n",
              "      <td>69.5</td>\n",
              "      <td>177.0</td>\n",
              "      <td>56.0</td>\n",
              "      <td>37.0</td>\n",
              "      <td>85.0</td>\n",
              "      <td>96.0</td>\n",
              "      <td>45.0</td>\n",
              "      <td>29.020772</td>\n",
              "      <td>0</td>\n",
              "    </tr>\n",
              "    <tr>\n",
              "      <th>2</th>\n",
              "      <td>1</td>\n",
              "      <td>0.0</td>\n",
              "      <td>0.0</td>\n",
              "      <td>24.258674</td>\n",
              "      <td>76.0</td>\n",
              "      <td>177.0</td>\n",
              "      <td>55.5</td>\n",
              "      <td>36.4</td>\n",
              "      <td>83.5</td>\n",
              "      <td>96.0</td>\n",
              "      <td>38.0</td>\n",
              "      <td>34.859155</td>\n",
              "      <td>1</td>\n",
              "    </tr>\n",
              "    <tr>\n",
              "      <th>3</th>\n",
              "      <td>0</td>\n",
              "      <td>0.0</td>\n",
              "      <td>9.0</td>\n",
              "      <td>28.338234</td>\n",
              "      <td>73.0</td>\n",
              "      <td>160.5</td>\n",
              "      <td>55.0</td>\n",
              "      <td>34.3</td>\n",
              "      <td>86.0</td>\n",
              "      <td>104.0</td>\n",
              "      <td>36.0</td>\n",
              "      <td>1.660000</td>\n",
              "      <td>0</td>\n",
              "    </tr>\n",
              "    <tr>\n",
              "      <th>4</th>\n",
              "      <td>1</td>\n",
              "      <td>1.0</td>\n",
              "      <td>12.0</td>\n",
              "      <td>43.598890</td>\n",
              "      <td>132.0</td>\n",
              "      <td>174.0</td>\n",
              "      <td>62.0</td>\n",
              "      <td>51.5</td>\n",
              "      <td>133.0</td>\n",
              "      <td>129.0</td>\n",
              "      <td>35.0</td>\n",
              "      <td>75.380282</td>\n",
              "      <td>1</td>\n",
              "    </tr>\n",
              "    <tr>\n",
              "      <th>...</th>\n",
              "      <td>...</td>\n",
              "      <td>...</td>\n",
              "      <td>...</td>\n",
              "      <td>...</td>\n",
              "      <td>...</td>\n",
              "      <td>...</td>\n",
              "      <td>...</td>\n",
              "      <td>...</td>\n",
              "      <td>...</td>\n",
              "      <td>...</td>\n",
              "      <td>...</td>\n",
              "      <td>...</td>\n",
              "      <td>...</td>\n",
              "    </tr>\n",
              "    <tr>\n",
              "      <th>5240</th>\n",
              "      <td>1</td>\n",
              "      <td>0.0</td>\n",
              "      <td>5.0</td>\n",
              "      <td>25.854639</td>\n",
              "      <td>81.0</td>\n",
              "      <td>177.0</td>\n",
              "      <td>56.0</td>\n",
              "      <td>38.0</td>\n",
              "      <td>89.0</td>\n",
              "      <td>100.5</td>\n",
              "      <td>39.0</td>\n",
              "      <td>52.784810</td>\n",
              "      <td>1</td>\n",
              "    </tr>\n",
              "    <tr>\n",
              "      <th>5241</th>\n",
              "      <td>1</td>\n",
              "      <td>0.0</td>\n",
              "      <td>19.0</td>\n",
              "      <td>26.609713</td>\n",
              "      <td>76.0</td>\n",
              "      <td>169.0</td>\n",
              "      <td>60.0</td>\n",
              "      <td>38.0</td>\n",
              "      <td>94.0</td>\n",
              "      <td>107.0</td>\n",
              "      <td>56.0</td>\n",
              "      <td>41.079545</td>\n",
              "      <td>1</td>\n",
              "    </tr>\n",
              "    <tr>\n",
              "      <th>5242</th>\n",
              "      <td>1</td>\n",
              "      <td>1.0</td>\n",
              "      <td>7.0</td>\n",
              "      <td>32.461911</td>\n",
              "      <td>75.0</td>\n",
              "      <td>152.0</td>\n",
              "      <td>56.0</td>\n",
              "      <td>41.0</td>\n",
              "      <td>94.5</td>\n",
              "      <td>105.0</td>\n",
              "      <td>43.0</td>\n",
              "      <td>62.107728</td>\n",
              "      <td>1</td>\n",
              "    </tr>\n",
              "    <tr>\n",
              "      <th>5243</th>\n",
              "      <td>1</td>\n",
              "      <td>0.0</td>\n",
              "      <td>13.0</td>\n",
              "      <td>30.778701</td>\n",
              "      <td>90.0</td>\n",
              "      <td>171.0</td>\n",
              "      <td>59.5</td>\n",
              "      <td>43.0</td>\n",
              "      <td>113.8</td>\n",
              "      <td>98.0</td>\n",
              "      <td>35.0</td>\n",
              "      <td>107.491166</td>\n",
              "      <td>1</td>\n",
              "    </tr>\n",
              "    <tr>\n",
              "      <th>5244</th>\n",
              "      <td>0</td>\n",
              "      <td>0.0</td>\n",
              "      <td>11.0</td>\n",
              "      <td>20.545694</td>\n",
              "      <td>50.0</td>\n",
              "      <td>156.0</td>\n",
              "      <td>53.0</td>\n",
              "      <td>29.0</td>\n",
              "      <td>70.5</td>\n",
              "      <td>86.5</td>\n",
              "      <td>38.0</td>\n",
              "      <td>11.830000</td>\n",
              "      <td>0</td>\n",
              "    </tr>\n",
              "  </tbody>\n",
              "</table>\n",
              "<p>5241 rows × 13 columns</p>\n",
              "</div>"
            ],
            "text/plain": [
              "      Gender   BQ   ESS        BMI  ...  Buttock   Age         AHI  status\n",
              "0          0  0.0   9.0  26.291724  ...     98.0  58.0   30.000000       0\n",
              "1          1  0.0   8.0  22.183919  ...     96.0  45.0   29.020772       0\n",
              "2          1  0.0   0.0  24.258674  ...     96.0  38.0   34.859155       1\n",
              "3          0  0.0   9.0  28.338234  ...    104.0  36.0    1.660000       0\n",
              "4          1  1.0  12.0  43.598890  ...    129.0  35.0   75.380282       1\n",
              "...      ...  ...   ...        ...  ...      ...   ...         ...     ...\n",
              "5240       1  0.0   5.0  25.854639  ...    100.5  39.0   52.784810       1\n",
              "5241       1  0.0  19.0  26.609713  ...    107.0  56.0   41.079545       1\n",
              "5242       1  1.0   7.0  32.461911  ...    105.0  43.0   62.107728       1\n",
              "5243       1  0.0  13.0  30.778701  ...     98.0  35.0  107.491166       1\n",
              "5244       0  0.0  11.0  20.545694  ...     86.5  38.0   11.830000       0\n",
              "\n",
              "[5241 rows x 13 columns]"
            ]
          },
          "metadata": {
            "tags": []
          },
          "execution_count": 10
        }
      ]
    }
  ]
}
